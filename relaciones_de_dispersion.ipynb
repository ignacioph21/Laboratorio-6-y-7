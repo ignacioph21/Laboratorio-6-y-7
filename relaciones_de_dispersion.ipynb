{
 "cells": [
  {
   "cell_type": "code",
   "execution_count": 28,
   "metadata": {},
   "outputs": [],
   "source": [
    "import matplotlib.font_manager\n",
    "import numpy as np\n",
    "import matplotlib.pyplot as plt\n",
    "import matplotlib\n",
    "import scienceplots\n",
    "from scipy.special import jn_zeros\n",
    "from scipy.optimize import fsolve\n",
    "plt.style.use(\"science\")\n",
    "cm = 1/2.54\n",
    "\n",
    "estilo_graficos = [\"science\", \"nature\"] #@param\n",
    "plt.style.use(estilo_graficos)\n",
    "texto_pt = 8 #@param\n",
    "font_size_dict = {\"axes.labelsize\": texto_pt, \"xtick.labelsize\": texto_pt, \"ytick.labelsize\": texto_pt, \"legend.fontsize\": texto_pt, \"font.size\": texto_pt}\n",
    "plt.rcParams.update(font_size_dict)\n",
    "proporciones = (3, 2)\n",
    "plt.rcParams['figure.figsize'] = proporciones\n",
    "dpi = 200 #@param\n",
    "plt.rcParams['figure.dpi'] = dpi"
   ]
  },
  {
   "cell_type": "code",
   "execution_count": 29,
   "metadata": {},
   "outputs": [],
   "source": [
    "# Parámetros\n",
    "sigma = 0.07275  # N/m\n",
    "h     = 5e-2     # m\n",
    "rho   = 1000     # Kg / m^3\n",
    "g     = 9.8      # m/s^2\n",
    "nu    = 1e-6     # m^2 s"
   ]
  },
  {
   "cell_type": "code",
   "execution_count": 30,
   "metadata": {},
   "outputs": [],
   "source": [
    "# Relaciones de dispersión\n",
    "\n",
    "def w_gravito_capilares(k):\n",
    "    return np.sqrt(k*(g + sigma*k**2/rho)*np.tanh(k*h))\n",
    "\n",
    "def w_gravedad(k):\n",
    "    return np.sqrt(k*g*np.tanh(k*h))\n",
    "\n",
    "def w_capilares(k):\n",
    "    return np.sqrt(k*(sigma*k**2/rho)*np.tanh(k*h))\n",
    "\n",
    "def k_gravito_capilares(ws):\n",
    "    return np.array([*map(lambda w_: fsolve(lambda k_: w_gravito_capilares(k_)-w_, 0)[0], ws)])\n",
    "\n",
    "def k_gravedad(ws):\n",
    "    return np.array([*map(lambda w_: fsolve(lambda k_: w_gravedad(k_)-w_, 0)[0], ws)])\n",
    "\n",
    "def k_capilares(ws):\n",
    "    return np.array([*map(lambda w_: fsolve(lambda k_: w_capilares(k_)-w_, 0)[0], ws)])\n",
    "\n",
    "k_rel_disp_dict = {\n",
    "    \"Gravito-Capilares\": k_gravito_capilares,\n",
    "    \"Gravedad\": k_gravedad,\n",
    "    \"Capilares\": k_capilares,\n",
    "}\n",
    "\n",
    "w_rel_disp_dict = {\n",
    "    \"Gravito-Capilares\": w_gravito_capilares,\n",
    "    \"Gravedad\": w_gravedad,\n",
    "    \"Capilares\": w_capilares,\n",
    "}\n",
    "\n",
    "# Definición del factor de adimensionalización\n",
    "def K(w): \n",
    "    return w**2/g\n",
    "\n",
    "def w(K):\n",
    "    return np.sqrt(K*g)\n"
   ]
  }
 ],
 "metadata": {
  "kernelspec": {
   "display_name": "Python 3",
   "language": "python",
   "name": "python3"
  },
  "language_info": {
   "codemirror_mode": {
    "name": "ipython",
    "version": 3
   },
   "file_extension": ".py",
   "mimetype": "text/x-python",
   "name": "python",
   "nbconvert_exporter": "python",
   "pygments_lexer": "ipython3",
   "version": "3.10.12"
  }
 },
 "nbformat": 4,
 "nbformat_minor": 2
}
